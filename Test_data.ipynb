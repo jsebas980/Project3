{
 "cells": [
  {
   "cell_type": "code",
   "execution_count": 3,
   "id": "6d4ebcac",
   "metadata": {},
   "outputs": [],
   "source": [
    "import pandas as pd\n",
    "import numpy as np\n",
    "import scipy.stats"
   ]
  },
  {
   "cell_type": "code",
   "execution_count": 2,
   "id": "f64c37b5",
   "metadata": {},
   "outputs": [],
   "source": [
    "def test_row_count():\n",
    "    data=pd.read_csv(\"./amazondrive/census.csv\")\n",
    "    assert 30000 < data.shape[0] < 150000"
   ]
  },
  {
   "cell_type": "code",
   "execution_count": null,
   "id": "fffd2e45",
   "metadata": {},
   "outputs": [],
   "source": [
    "def test_column_names():\n",
    "    data=pd.read_csv(\"./amazondrive/Census_cleaned.csv\")\n",
    "    expected_colums = [\n",
    "        \"age\",\n",
    "        \"workclass\",\n",
    "        \"fnlgt\",\n",
    "        \"education\",\n",
    "        \"education-num\",\n",
    "        \"marital-status\",\n",
    "        \"occupation\",\n",
    "        \"relationship\",\n",
    "        \"race\",\n",
    "        \"sex\",\n",
    "        \"capital-gain\",\n",
    "        \"capital-loss\",\n",
    "        \"hours-per-week\",\n",
    "        \"native-country\",\n",
    "        \"salary\",\n",
    "    ]\n",
    "    these_columns = data.columns.values\n",
    "\n",
    "    # This also enforces the same order\n",
    "    assert list(expected_colums) == list(these_columns)"
   ]
  },
  {
   "cell_type": "code",
   "execution_count": 4,
   "id": "da7e2394",
   "metadata": {},
   "outputs": [],
   "source": [
    "def test_relationship():\n",
    "    data=pd.read_csv(\"./amazondrive/Census_cleaned.csv\")\n",
    "    known_categories = [\" Not-in-family\", \" Husband\", \" Wife\", \" Own-child\", \" Unmarried\", \" Other-relative\"]\n",
    "\n",
    "    relation = set(data['relationship'].unique())\n",
    "\n",
    "    # Unordered check\n",
    "    assert set(known_categories) == set(relation)"
   ]
  },
  {
   "cell_type": "code",
   "execution_count": null,
   "id": "8db1ad99",
   "metadata": {},
   "outputs": [],
   "source": []
  }
 ],
 "metadata": {
  "kernelspec": {
   "display_name": "Python 3 (ipykernel)",
   "language": "python",
   "name": "python3"
  },
  "language_info": {
   "codemirror_mode": {
    "name": "ipython",
    "version": 3
   },
   "file_extension": ".py",
   "mimetype": "text/x-python",
   "name": "python",
   "nbconvert_exporter": "python",
   "pygments_lexer": "ipython3",
   "version": "3.8.12"
  }
 },
 "nbformat": 4,
 "nbformat_minor": 5
}
