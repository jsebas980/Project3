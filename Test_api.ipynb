{
 "cells": [
  {
   "cell_type": "code",
   "execution_count": 3,
   "id": "b76bdb95",
   "metadata": {},
   "outputs": [],
   "source": [
    "import requests\n",
    "import json\n",
    "import pytest"
   ]
  },
  {
   "cell_type": "code",
   "execution_count": 4,
   "id": "5c89dd0a",
   "metadata": {},
   "outputs": [],
   "source": [
    "def test_get():\n",
    "    response = requests.get(\"http://127.0.0.1:8000\")\n",
    "    assert response.status_code == 200"
   ]
  },
  {
   "cell_type": "code",
   "execution_count": 5,
   "id": "fc134eb4",
   "metadata": {},
   "outputs": [],
   "source": [
    "def test_post_predict():\n",
    "    body={\n",
    "            \"age\": 34,\n",
    "            \"workclass\": \"Self-emp-not-inc\",\n",
    "            \"fnlgt\": 292175,\n",
    "            \"education\": \"Masters\",\n",
    "            \"education-num\": 14,\n",
    "            \"marital-status\": \"Divorced\",\n",
    "            \"occupation\": \"Exec-managerial\",\n",
    "            \"relationship\": \"Unmarried\",\n",
    "            \"race\": \"White\",\n",
    "            \"sex\": \"Female\",\n",
    "            \"capital-gain\": 0,\n",
    "            \"capital-loss\": 0,\n",
    "            \"hours-per-week\": 45,\n",
    "            \"native-country\": \"United-States\"\n",
    "        }\n",
    "    response=requests.post(url=\"http://127.0.0.1:8000/predict\", json=body)\n",
    "    assert response.status_code == 200"
   ]
  },
  {
   "cell_type": "code",
   "execution_count": 6,
   "id": "42f9ea8a",
   "metadata": {},
   "outputs": [],
   "source": [
    "def test_post_predict2():\n",
    "    body={\n",
    "            \"age\": 34,\n",
    "            \"workclass\": \"Federal-gov\",\n",
    "            \"fnlgt\": 337895,\n",
    "            \"education\": \"Bachelors\",\n",
    "            \"education-num\": 13,\n",
    "            \"marital-status\": \"Married-civ-spouse\",\n",
    "            \"occupation\": \"Prof-specialty\",\n",
    "            \"relationship\": \"Husband\",\n",
    "            \"race\": \"Black\",\n",
    "            \"sex\": \"Male\",\n",
    "            \"capital-gain\": 0,\n",
    "            \"capital-loss\": 0,\n",
    "            \"hours-per-week\": 40,\n",
    "            \"native-country\": \"United-States\"\n",
    "        }\n",
    "    response=requests.post(url=\"http://127.0.0.1:8000/predict\", json=body)\n",
    "    assert response.status_code == 200"
   ]
  },
  {
   "cell_type": "code",
   "execution_count": null,
   "id": "77cffd3c",
   "metadata": {},
   "outputs": [],
   "source": []
  }
 ],
 "metadata": {
  "kernelspec": {
   "display_name": "Python 3 (ipykernel)",
   "language": "python",
   "name": "python3"
  },
  "language_info": {
   "codemirror_mode": {
    "name": "ipython",
    "version": 3
   },
   "file_extension": ".py",
   "mimetype": "text/x-python",
   "name": "python",
   "nbconvert_exporter": "python",
   "pygments_lexer": "ipython3",
   "version": "3.8.12"
  }
 },
 "nbformat": 4,
 "nbformat_minor": 5
}
