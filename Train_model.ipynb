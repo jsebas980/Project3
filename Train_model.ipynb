{
 "cells": [
  {
   "cell_type": "code",
   "execution_count": 13,
   "id": "64cdde7b",
   "metadata": {},
   "outputs": [],
   "source": [
    "# Script to train machine learning model.\n",
    "\n",
    "from sklearn.model_selection import train_test_split\n",
    "from sklearn.model_selection import KFold\n",
    "from ml.data import process_data\n",
    "from model.model import train_model, compute_model_metrics\n",
    "import pandas as pd\n",
    "import pickle"
   ]
  },
  {
   "cell_type": "code",
   "execution_count": 14,
   "id": "f40f67e3",
   "metadata": {},
   "outputs": [],
   "source": [
    "# Add code to load in the data.\n",
    "census_data=pd.read_csv(\"./amazondrive/Census_cleaned.csv\")"
   ]
  },
  {
   "cell_type": "code",
   "execution_count": 15,
   "id": "2bb0e093",
   "metadata": {},
   "outputs": [],
   "source": [
    "# Optional enhancement, use K-fold cross validation instead of a train-test split.\n",
    "#train, test = train_test_split(data, test_size=0.20)\n",
    "\n",
    "cat_features = [\n",
    "    \"workclass\",\n",
    "    \"education\",\n",
    "    \"marital-status\",\n",
    "    \"occupation\",\n",
    "    \"relationship\",\n",
    "    \"race\",\n",
    "    \"sex\",\n",
    "    \"native-country\",\n",
    "]"
   ]
  },
  {
   "cell_type": "code",
   "execution_count": 16,
   "id": "375c8daa",
   "metadata": {},
   "outputs": [],
   "source": [
    "kf10 = KFold(n_splits=10, shuffle=False)\n",
    "label=\"salary\"\n",
    "X, y, encoder, lb= process_data(census_data,cat_features,label,training=True)"
   ]
  },
  {
   "cell_type": "code",
   "execution_count": 17,
   "id": "6a39ec6a",
   "metadata": {},
   "outputs": [
    {
     "name": "stdout",
     "output_type": "stream",
     "text": [
      "Precision:  0.7118055555555556 , Recall:  0.26248399487836105 , fbeta:  0.3835360149672591\n",
      "Precision:  0.7169117647058824 , Recall:  0.26785714285714285 , fbeta:  0.38999999999999996\n",
      "Precision:  0.6761565836298933 , Recall:  0.26874115983026875 , fbeta:  0.38461538461538464\n",
      "Precision:  0.6920415224913494 , Recall:  0.2631578947368421 , fbeta:  0.3813155386081983\n",
      "Precision:  0.6911764705882353 , Recall:  0.25 , fbeta:  0.3671875\n",
      "Precision:  0.7536764705882353 , Recall:  0.2812071330589849 , fbeta:  0.4095904095904096\n",
      "Precision:  0.6870503597122302 , Recall:  0.2556894243641232 , fbeta:  0.3726829268292683\n",
      "Precision:  0.7392857142857143 , Recall:  0.26813471502590674 , fbeta:  0.3935361216730038\n",
      "Precision:  0.7158273381294964 , Recall:  0.2608125819134993 , fbeta:  0.38232468780019213\n",
      "Precision:  0.7430555555555556 , Recall:  0.27828348504551365 , fbeta:  0.4049195837275308\n"
     ]
    }
   ],
   "source": [
    "for train_index, test_index in kf10.split(census_data):\n",
    "    X_train,X_test = X[train_index], X[test_index]\n",
    "    y_train,y_test = y[train_index], y[test_index]\n",
    "    model=train_model(X_train,y_train)\n",
    "    prediction=model.predict(X_test)\n",
    "    precision, recall, fbeta=compute_model_metrics(y_test, prediction)\n",
    "    print(\"Precision: \",precision,\", Recall: \", recall, \", fbeta: \", fbeta)"
   ]
  },
  {
   "cell_type": "code",
   "execution_count": 18,
   "id": "d7644380",
   "metadata": {},
   "outputs": [],
   "source": [
    "pickle.dump(lb, open('ml/LabelBinarizer.sav', 'wb'))\n",
    "pickle.dump(encoder, open('ml/OneHotEncoder.sav', 'wb'))\n",
    "pickle.dump(model, open('ml/finalized_model.sav', 'wb'))"
   ]
  },
  {
   "cell_type": "code",
   "execution_count": 19,
   "id": "3f353544",
   "metadata": {},
   "outputs": [],
   "source": [
    "#Function for calculating descriptive stats on slices of the dataset\n",
    "\n",
    "def slice_data(df, cat_features, encoder, lb, model):\n",
    "    for cat in cat_features:\n",
    "        print(\"Category: \", cat)\n",
    "        for cls in df[cat].unique():\n",
    "            print(cls)\n",
    "            df_temp = df[df[cat] == cls]\n",
    "            \n",
    "            X_temp, y_temp, encoder1, lb1 = process_data(\n",
    "            df_temp, categorical_features=cat_features, label=\"salary\", training=False, encoder=encoder, lb=lb,\n",
    "            )\n",
    "            \n",
    "            preds=model.predict(X_temp)\n",
    "    \n",
    "            precision, recall, fbeta=compute_model_metrics(y_temp, preds)\n",
    "        \n",
    "            with open(\"ml/slice_output.txt\", 'a') as f:\n",
    "                f.write(\"\\nCategory: \"+ cat +\", \"+ cls+\"\\n\")\n",
    "                f.write(\" -Precision: \" + str(precision)+\"\\n\")\n",
    "                f.write(\" -Recall: \" + str(recall)+\"\\n\")\n",
    "                f.write(\" -Fbeta: \" + str(fbeta)+\"\\n\")"
   ]
  },
  {
   "cell_type": "code",
   "execution_count": 20,
   "id": "92024b7f",
   "metadata": {},
   "outputs": [
    {
     "name": "stdout",
     "output_type": "stream",
     "text": [
      "Category:  workclass\n",
      " State-gov\n",
      " Self-emp-not-inc\n",
      " Private\n",
      " Federal-gov\n",
      " Local-gov\n",
      " Self-emp-inc\n",
      " Without-pay\n",
      "Category:  education\n",
      " Bachelors\n",
      " HS-grad\n",
      " 11th\n",
      " Masters\n",
      " 9th\n",
      " Some-college\n",
      " Assoc-acdm\n",
      " 7th-8th\n",
      " Doctorate\n",
      " Assoc-voc\n",
      " Prof-school\n",
      " 5th-6th\n",
      " 10th\n",
      " Preschool\n",
      " 12th\n",
      " 1st-4th\n",
      "Category:  marital-status\n",
      " Never-married\n",
      " Married-civ-spouse\n",
      " Divorced\n",
      " Married-spouse-absent\n",
      " Separated\n",
      " Married-AF-spouse\n",
      " Widowed\n",
      "Category:  occupation\n",
      " Adm-clerical\n",
      " Exec-managerial\n",
      " Handlers-cleaners\n",
      " Prof-specialty\n",
      " Other-service\n",
      " Sales\n",
      " Transport-moving\n",
      " Farming-fishing\n",
      " Machine-op-inspct\n",
      " Tech-support\n",
      " Craft-repair\n",
      " Protective-serv\n",
      " Armed-Forces\n",
      " Priv-house-serv\n",
      "Category:  relationship\n",
      " Not-in-family\n",
      " Husband\n",
      " Wife\n",
      " Own-child\n",
      " Unmarried\n",
      " Other-relative\n",
      "Category:  race\n",
      " White\n",
      " Black\n",
      " Asian-Pac-Islander\n",
      " Amer-Indian-Eskimo\n",
      " Other\n",
      "Category:  sex\n",
      " Male\n",
      " Female\n",
      "Category:  native-country\n",
      " United-States\n",
      " Cuba\n",
      " Jamaica\n",
      " India\n",
      " Mexico\n",
      " Puerto-Rico\n",
      " Honduras\n",
      " England\n",
      " Canada\n",
      " Germany\n",
      " Iran\n",
      " Philippines\n",
      " Poland\n",
      " Columbia\n",
      " Cambodia\n",
      " Thailand\n",
      " Ecuador\n",
      " Laos\n",
      " Taiwan\n",
      " Haiti\n",
      " Portugal\n",
      " Dominican-Republic\n",
      " El-Salvador\n",
      " France\n",
      " Guatemala\n",
      " Italy\n",
      " China\n",
      " South\n",
      " Japan\n",
      " Yugoslavia\n",
      " Peru\n",
      " Outlying-US(Guam-USVI-etc)\n",
      " Scotland\n",
      " Trinadad&Tobago\n",
      " Greece\n",
      " Nicaragua\n",
      " Vietnam\n",
      " Hong\n",
      " Ireland\n",
      " Hungary\n",
      " Holand-Netherlands\n"
     ]
    }
   ],
   "source": [
    "slice_data(census_data,cat_features,encoder,lb,model)"
   ]
  },
  {
   "cell_type": "code",
   "execution_count": null,
   "id": "8ab2020f",
   "metadata": {},
   "outputs": [],
   "source": []
  }
 ],
 "metadata": {
  "kernelspec": {
   "display_name": "Python 3 (ipykernel)",
   "language": "python",
   "name": "python3"
  },
  "language_info": {
   "codemirror_mode": {
    "name": "ipython",
    "version": 3
   },
   "file_extension": ".py",
   "mimetype": "text/x-python",
   "name": "python",
   "nbconvert_exporter": "python",
   "pygments_lexer": "ipython3",
   "version": "3.8.12"
  }
 },
 "nbformat": 4,
 "nbformat_minor": 5
}
