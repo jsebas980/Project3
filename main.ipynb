{
 "cells": [
  {
   "cell_type": "code",
   "execution_count": 1,
   "id": "73e15a70",
   "metadata": {},
   "outputs": [],
   "source": [
    "from fastapi import FastAPI\n",
    "from ml.data import process_data\n",
    "from model.model import inference\n",
    "from pydantic import BaseModel, Field\n",
    "import os\n",
    "import pandas as pd\n",
    "import pickle"
   ]
  },
  {
   "cell_type": "code",
   "execution_count": 2,
   "id": "3fd33f29",
   "metadata": {},
   "outputs": [],
   "source": [
    "# Instantiate the app.\n",
    "app = FastAPI()"
   ]
  },
  {
   "cell_type": "code",
   "execution_count": 3,
   "id": "0bbf5ac5",
   "metadata": {},
   "outputs": [],
   "source": [
    "#Load Models\n",
    "result_model = pickle.load(open(\"ml/finalized_model.sav\", 'rb'))\n",
    "result_encoder = pickle.load(open(\"ml/OneHotEncoder.sav\", 'rb'))\n",
    "result_lb = pickle.load(open(\"ml/LabelBinarizer.sav\", 'rb'))"
   ]
  },
  {
   "cell_type": "code",
   "execution_count": 4,
   "id": "f3369afc",
   "metadata": {},
   "outputs": [],
   "source": [
    "class TaggedItem(BaseModel):\n",
    "    age: int\n",
    "    workclass: str\n",
    "    fnlgt:int\n",
    "    education: str\n",
    "    education_num: int = Field(alias=\"education-num\")\n",
    "    marital_status: str = Field(alias=\"marital-status\")\n",
    "    occupation: str\n",
    "    relationship: str\n",
    "    race: str\n",
    "    sex: str\n",
    "    capital_gain: int = Field(alias=\"capital-gain\")\n",
    "    capital_loss: int = Field(alias=\"capital-loss\")\n",
    "    hours_per_week: int = Field(alias=\"hours-per-week\") \n",
    "    native_country: str = Field(alias=\"native-country\")\n",
    "    "
   ]
  },
  {
   "cell_type": "code",
   "execution_count": null,
   "id": "bc4d6c97",
   "metadata": {},
   "outputs": [],
   "source": [
    "    class Example:\n",
    "        example_schema = {\n",
    "            \"example\": {\n",
    "                \"age\": 20,\n",
    "                \"workclass\": \"Private\",\n",
    "                \"fnlgt\": 168187,\n",
    "                \"education\": \" Some-college\",\n",
    "                \"education-num\": 10,\n",
    "                \"marital-status\": \"Never-married\",\n",
    "                \"occupation\": \"Other-service\",\n",
    "                \"relationship\": \"Other-relative\",\n",
    "                \"race\": \"White\",\n",
    "                \"sex\": \"Female\",\n",
    "                \"capital-gain\": 4416,\n",
    "                \"capital-loss\": 0,\n",
    "                \"hours-per-week\": 25,\n",
    "                \"native-country\": \"United-States\"\n",
    "            }\n",
    "        }"
   ]
  },
  {
   "cell_type": "code",
   "execution_count": 5,
   "id": "7a17fd11",
   "metadata": {},
   "outputs": [],
   "source": [
    "def convert_input_data(record):\n",
    "    cat_features = [\n",
    "    \" workclass\",\n",
    "    \" education\",\n",
    "    \" marital-status\",\n",
    "    \" occupation\",\n",
    "    \" relationship\",\n",
    "    \" race\",\n",
    "    \" sex\",\n",
    "    \" native-country\",\n",
    "    ]\n",
    "    df_record=pd.DataFrame(record)\n",
    "    X, y,encoder,lb = process_data(\n",
    "            df_record, categorical_features=cat_features, encoder=result_encoder, lb=result_lb,\n",
    "            )\n",
    "\n",
    "    return X\n"
   ]
  },
  {
   "cell_type": "code",
   "execution_count": 6,
   "id": "e52947c6",
   "metadata": {},
   "outputs": [],
   "source": [
    "# Define a GET on the specified endpoint.\n",
    "@app.get(\"/\")\n",
    "async def initial_message():\n",
    "    welcome_message=\"Greetings, Welcome to the api for module 3 of course Machine learning devops engineer\"\n",
    "    return welcome_message"
   ]
  },
  {
   "cell_type": "code",
   "execution_count": 9,
   "id": "973b275a",
   "metadata": {},
   "outputs": [],
   "source": [
    "@app.post(\"/predict/\")\n",
    "async def predict_salary(item: TaggedItem):\n",
    "    X=convert_input_data(item)\n",
    "    prediction=inference(result_model,X)\n",
    "    category=result_lb.inverse_transform(pred[0])\n",
    "    final_result= \"The prediction of Salary according to the features is:\" + category[0]\n",
    "    return final_result"
   ]
  },
  {
   "cell_type": "code",
   "execution_count": null,
   "id": "d6007daf",
   "metadata": {},
   "outputs": [],
   "source": [
    "import requests\n",
    "import json\n",
    "\n",
    "def test_get_method():\n",
    "    path = \"http://127.0.0.1:8000/\"\n",
    "    response = requests.get(url=path)\n",
    "    responseJson = json.loads(response.text)\n",
    "    assert response.status_code == 200"
   ]
  },
  {
   "cell_type": "code",
   "execution_count": 21,
   "id": "284f5fcd",
   "metadata": {},
   "outputs": [
    {
     "data": {
      "text/html": [
       "<div>\n",
       "<style scoped>\n",
       "    .dataframe tbody tr th:only-of-type {\n",
       "        vertical-align: middle;\n",
       "    }\n",
       "\n",
       "    .dataframe tbody tr th {\n",
       "        vertical-align: top;\n",
       "    }\n",
       "\n",
       "    .dataframe thead th {\n",
       "        text-align: right;\n",
       "    }\n",
       "</style>\n",
       "<table border=\"1\" class=\"dataframe\">\n",
       "  <thead>\n",
       "    <tr style=\"text-align: right;\">\n",
       "      <th></th>\n",
       "      <th>0</th>\n",
       "    </tr>\n",
       "  </thead>\n",
       "  <tbody>\n",
       "    <tr>\n",
       "      <th>age</th>\n",
       "      <td>20</td>\n",
       "    </tr>\n",
       "    <tr>\n",
       "      <th>workclass</th>\n",
       "      <td>Private</td>\n",
       "    </tr>\n",
       "    <tr>\n",
       "      <th>fnlgt</th>\n",
       "      <td>168187</td>\n",
       "    </tr>\n",
       "    <tr>\n",
       "      <th>education</th>\n",
       "      <td>Some-college</td>\n",
       "    </tr>\n",
       "    <tr>\n",
       "      <th>education-num</th>\n",
       "      <td>10</td>\n",
       "    </tr>\n",
       "    <tr>\n",
       "      <th>marital-status</th>\n",
       "      <td>Never-married</td>\n",
       "    </tr>\n",
       "    <tr>\n",
       "      <th>occupation</th>\n",
       "      <td>Other-service</td>\n",
       "    </tr>\n",
       "    <tr>\n",
       "      <th>relationship</th>\n",
       "      <td>Other-relative</td>\n",
       "    </tr>\n",
       "    <tr>\n",
       "      <th>race</th>\n",
       "      <td>White</td>\n",
       "    </tr>\n",
       "    <tr>\n",
       "      <th>sex</th>\n",
       "      <td>Female</td>\n",
       "    </tr>\n",
       "    <tr>\n",
       "      <th>capital-gain</th>\n",
       "      <td>4416</td>\n",
       "    </tr>\n",
       "    <tr>\n",
       "      <th>capital-loss</th>\n",
       "      <td>0</td>\n",
       "    </tr>\n",
       "    <tr>\n",
       "      <th>hours-per-week</th>\n",
       "      <td>25</td>\n",
       "    </tr>\n",
       "    <tr>\n",
       "      <th>native-country</th>\n",
       "      <td>United-States</td>\n",
       "    </tr>\n",
       "  </tbody>\n",
       "</table>\n",
       "</div>"
      ],
      "text/plain": [
       "                             0\n",
       "age                         20\n",
       "workclass              Private\n",
       "fnlgt                   168187\n",
       "education         Some-college\n",
       "education-num               10\n",
       "marital-status   Never-married\n",
       "occupation       Other-service\n",
       "relationship    Other-relative\n",
       "race                     White\n",
       "sex                     Female\n",
       "capital-gain              4416\n",
       "capital-loss                 0\n",
       "hours-per-week              25\n",
       "native-country   United-States"
      ]
     },
     "execution_count": 21,
     "metadata": {},
     "output_type": "execute_result"
    }
   ],
   "source": [
    "example_schema = {\n",
    "                \"age\": 20,\n",
    "                \"workclass\": \"Private\",\n",
    "                \"fnlgt\": 168187,\n",
    "                \"education\": \" Some-college\",\n",
    "                \"education-num\": 10,\n",
    "                \"marital-status\": \"Never-married\",\n",
    "                \"occupation\": \"Other-service\",\n",
    "                \"relationship\": \"Other-relative\",\n",
    "                \"race\": \"White\",\n",
    "                \"sex\": \"Female\",\n",
    "                \"capital-gain\": 4416,\n",
    "                \"capital-loss\": 0,\n",
    "                \"hours-per-week\": 25,\n",
    "                \"native-country\": \"United-States\"\n",
    "            }\n",
    "df_record= pd.DataFrame.from_dict(example_schema,orient='index')\n",
    "df_record"
   ]
  },
  {
   "cell_type": "code",
   "execution_count": 18,
   "id": "e62fbd61",
   "metadata": {},
   "outputs": [
    {
     "data": {
      "text/plain": [
       "age                int64\n",
       "workclass         object\n",
       "fnlgt              int64\n",
       "education         object\n",
       "education-num      int64\n",
       "marital-status    object\n",
       "occupation        object\n",
       "relationship      object\n",
       "race              object\n",
       "sex               object\n",
       "capital-gain       int64\n",
       "capital-loss       int64\n",
       "hours-per-week     int64\n",
       "native-country    object\n",
       "dtype: object"
      ]
     },
     "execution_count": 18,
     "metadata": {},
     "output_type": "execute_result"
    }
   ],
   "source": [
    "df_record.dtypes"
   ]
  },
  {
   "cell_type": "code",
   "execution_count": 24,
   "id": "987d139c",
   "metadata": {},
   "outputs": [],
   "source": [
    "nuevo_arreglo={\"position\":example_schema}"
   ]
  },
  {
   "cell_type": "code",
   "execution_count": 26,
   "id": "b357ab71",
   "metadata": {},
   "outputs": [
    {
     "data": {
      "text/html": [
       "<div>\n",
       "<style scoped>\n",
       "    .dataframe tbody tr th:only-of-type {\n",
       "        vertical-align: middle;\n",
       "    }\n",
       "\n",
       "    .dataframe tbody tr th {\n",
       "        vertical-align: top;\n",
       "    }\n",
       "\n",
       "    .dataframe thead th {\n",
       "        text-align: right;\n",
       "    }\n",
       "</style>\n",
       "<table border=\"1\" class=\"dataframe\">\n",
       "  <thead>\n",
       "    <tr style=\"text-align: right;\">\n",
       "      <th></th>\n",
       "      <th>age</th>\n",
       "      <th>workclass</th>\n",
       "      <th>fnlgt</th>\n",
       "      <th>education</th>\n",
       "      <th>education-num</th>\n",
       "      <th>marital-status</th>\n",
       "      <th>occupation</th>\n",
       "      <th>relationship</th>\n",
       "      <th>race</th>\n",
       "      <th>sex</th>\n",
       "      <th>capital-gain</th>\n",
       "      <th>capital-loss</th>\n",
       "      <th>hours-per-week</th>\n",
       "      <th>native-country</th>\n",
       "    </tr>\n",
       "  </thead>\n",
       "  <tbody>\n",
       "    <tr>\n",
       "      <th>position</th>\n",
       "      <td>20</td>\n",
       "      <td>Private</td>\n",
       "      <td>168187</td>\n",
       "      <td>Some-college</td>\n",
       "      <td>10</td>\n",
       "      <td>Never-married</td>\n",
       "      <td>Other-service</td>\n",
       "      <td>Other-relative</td>\n",
       "      <td>White</td>\n",
       "      <td>Female</td>\n",
       "      <td>4416</td>\n",
       "      <td>0</td>\n",
       "      <td>25</td>\n",
       "      <td>United-States</td>\n",
       "    </tr>\n",
       "  </tbody>\n",
       "</table>\n",
       "</div>"
      ],
      "text/plain": [
       "          age workclass   fnlgt      education  education-num marital-status  \\\n",
       "position   20   Private  168187   Some-college             10  Never-married   \n",
       "\n",
       "             occupation    relationship   race     sex  capital-gain  \\\n",
       "position  Other-service  Other-relative  White  Female          4416   \n",
       "\n",
       "          capital-loss  hours-per-week native-country  \n",
       "position             0              25  United-States  "
      ]
     },
     "execution_count": 26,
     "metadata": {},
     "output_type": "execute_result"
    }
   ],
   "source": [
    "df_record= pd.DataFrame.from_dict(nuevo_arreglo,orient='index')\n",
    "df_record"
   ]
  },
  {
   "cell_type": "code",
   "execution_count": null,
   "id": "22c70761",
   "metadata": {},
   "outputs": [],
   "source": []
  }
 ],
 "metadata": {
  "kernelspec": {
   "display_name": "Python 3 (ipykernel)",
   "language": "python",
   "name": "python3"
  },
  "language_info": {
   "codemirror_mode": {
    "name": "ipython",
    "version": 3
   },
   "file_extension": ".py",
   "mimetype": "text/x-python",
   "name": "python",
   "nbconvert_exporter": "python",
   "pygments_lexer": "ipython3",
   "version": "3.8.12"
  }
 },
 "nbformat": 4,
 "nbformat_minor": 5
}
